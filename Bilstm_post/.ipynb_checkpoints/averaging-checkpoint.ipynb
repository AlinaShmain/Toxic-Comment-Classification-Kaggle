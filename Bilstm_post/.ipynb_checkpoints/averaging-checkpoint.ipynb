{
 "cells": [
  {
   "cell_type": "code",
   "execution_count": 1,
   "metadata": {},
   "outputs": [],
   "source": [
    "import pandas as pd\n",
    "import numpy as np"
   ]
  },
  {
   "cell_type": "code",
   "execution_count": 3,
   "metadata": {},
   "outputs": [
    {
     "name": "stdout",
     "output_type": "stream",
     "text": [
      "../attention_merged/attn_test_0.9857/attn_test_predicts0.npy\n",
      "../attention_merged/attn_test_0.9857/attn_test_predicts1.npy\n",
      "../attention_merged/attn_test_0.9857/attn_test_predicts2.npy\n",
      "../attention_merged/attn_test_0.9857/attn_test_predicts3.npy\n",
      "../attention_merged/attn_test_0.9857/attn_test_predicts4.npy\n",
      "../attention_merged/attn_test_0.9857/attn_test_predicts5.npy\n",
      "../attention_merged/attn_test_0.9857/attn_test_predicts6.npy\n",
      "../attention_merged/attn_test_0.9857/attn_test_predicts7.npy\n",
      "../attention_merged/attn_test_0.9857/attn_test_predicts8.npy\n",
      "../attention_merged/attn_test_0.9857/attn_test_predicts9.npy\n"
     ]
    },
    {
     "data": {
      "text/plain": [
       "10"
      ]
     },
     "execution_count": 3,
     "metadata": {},
     "output_type": "execute_result"
    }
   ],
   "source": [
    "test_df = pd.read_csv('../input/test.csv')\n",
    "test_predicts_list = []\n",
    "\n",
    "for i in range(0, 10):\n",
    "    path = '../bigru/gru_test/gru_pp_test_predicts{0}.npy'.format(i)\n",
    "    print (path)\n",
    "    test_preds = np.load(path)\n",
    "    test_predicts_list.append(test_preds)\n",
    "\n",
    "len(test_predicts_list)    "
   ]
  },
  {
   "cell_type": "code",
   "execution_count": 4,
   "metadata": {
    "scrolled": true
   },
   "outputs": [
    {
     "name": "stdout",
     "output_type": "stream",
     "text": [
      "10\n",
      "10\n"
     ]
    }
   ],
   "source": [
    "CLASSES = ['toxic', 'severe_toxic', 'obscene', 'threat', 'insult', 'identity_hate']\n",
    "\n",
    "print(len(test_predicts_list))\n",
    "test_predicts_am = np.zeros(test_predicts_list[0].shape)\n",
    "i=0 \n",
    "\n",
    "for fold_predict in test_predicts_list:\n",
    "    i += 1\n",
    "    test_predicts_am += fold_predict\n",
    "\n",
    "test_predicts_am = (test_predicts_am / len(test_predicts_list))\n",
    "print (i)\n",
    "\n",
    "test_ids = test_df[\"id\"].values\n",
    "test_ids = test_ids.reshape((len(test_ids), 1))\n",
    "\n",
    "test_predicts_am = pd.DataFrame(data=test_predicts_am, columns=CLASSES)\n",
    "test_predicts_am[\"id\"] = test_ids\n",
    "test_predicts_am = test_predicts_am[[\"id\"] + CLASSES]\n",
    "test_predicts_am.to_csv(\"../bigru/10fold_gru_am.csv\", index=False)"
   ]
  },
  {
   "cell_type": "code",
   "execution_count": 6,
   "metadata": {},
   "outputs": [
    {
     "data": {
      "text/plain": [
       "-0.00011011628173317074"
      ]
     },
     "execution_count": 6,
     "metadata": {},
     "output_type": "execute_result"
    }
   ],
   "source": [
    "test_predicts_am.head()"
   ]
  },
  {
   "cell_type": "code",
   "execution_count": null,
   "metadata": {},
   "outputs": [],
   "source": []
  }
 ],
 "metadata": {
  "kernelspec": {
   "display_name": "Python 3",
   "language": "python",
   "name": "python3"
  },
  "language_info": {
   "codemirror_mode": {
    "name": "ipython",
    "version": 3
   },
   "file_extension": ".py",
   "mimetype": "text/x-python",
   "name": "python",
   "nbconvert_exporter": "python",
   "pygments_lexer": "ipython3",
   "version": "3.6.3"
  }
 },
 "nbformat": 4,
 "nbformat_minor": 2
}
