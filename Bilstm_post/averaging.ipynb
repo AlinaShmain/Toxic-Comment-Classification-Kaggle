{
 "cells": [
  {
   "cell_type": "code",
   "execution_count": 1,
   "metadata": {},
   "outputs": [],
   "source": [
    "import pandas as pd\n",
    "import numpy as np"
   ]
  },
  {
   "cell_type": "code",
   "execution_count": 6,
   "metadata": {},
   "outputs": [
    {
     "name": "stdout",
     "output_type": "stream",
     "text": [
      "../bigru/gru_test/gru_pp_test_predicts0.npy\n",
      "../bigru/gru_test/gru_pp_test_predicts1.npy\n",
      "../bigru/gru_test/gru_pp_test_predicts2.npy\n",
      "../bigru/gru_test/gru_pp_test_predicts3.npy\n",
      "../bigru/gru_test/gru_pp_test_predicts4.npy\n",
      "../bigru/gru_test/gru_pp_test_predicts5.npy\n",
      "../bigru/gru_test/gru_pp_test_predicts6.npy\n",
      "../bigru/gru_test/gru_pp_test_predicts7.npy\n",
      "../bigru/gru_test/gru_pp_test_predicts8.npy\n",
      "../bigru/gru_test/gru_pp_test_predicts9.npy\n"
     ]
    },
    {
     "data": {
      "text/plain": [
       "10"
      ]
     },
     "execution_count": 6,
     "metadata": {},
     "output_type": "execute_result"
    }
   ],
   "source": [
    "test_df = pd.read_csv('../input/test.csv')\n",
    "test_predicts_list = []\n",
    "\n",
    "for i in range(0, 10):\n",
    "    path = '../bigru/gru_test/gru_pp_test_predicts{0}.npy'.format(i)\n",
    "    print (path)\n",
    "    test_preds = np.load(path)\n",
    "    test_predicts_list.append(test_preds)\n",
    "\n",
    "len(test_predicts_list)    "
   ]
  },
  {
   "cell_type": "code",
   "execution_count": 7,
   "metadata": {
    "scrolled": true
   },
   "outputs": [
    {
     "name": "stdout",
     "output_type": "stream",
     "text": [
      "10\n",
      "10\n"
     ]
    }
   ],
   "source": [
    "CLASSES = ['toxic', 'severe_toxic', 'obscene', 'threat', 'insult', 'identity_hate']\n",
    "\n",
    "print(len(test_predicts_list))\n",
    "test_predicts_am = np.zeros(test_predicts_list[0].shape)\n",
    "i=0 \n",
    "\n",
    "for fold_predict in test_predicts_list:\n",
    "    i += 1\n",
    "    test_predicts_am += fold_predict\n",
    "\n",
    "test_predicts_am = (test_predicts_am / len(test_predicts_list))\n",
    "print (i)\n",
    "\n",
    "test_ids = test_df[\"id\"].values\n",
    "test_ids = test_ids.reshape((len(test_ids), 1))\n",
    "\n",
    "test_predicts_am = pd.DataFrame(data=test_predicts_am, columns=CLASSES)\n",
    "test_predicts_am[\"id\"] = test_ids\n",
    "test_predicts_am = test_predicts_am[[\"id\"] + CLASSES]\n",
    "test_predicts_am.to_csv(\"../bigru/10fold_gru_am.csv\", index=False)"
   ]
  },
  {
   "cell_type": "code",
   "execution_count": 8,
   "metadata": {},
   "outputs": [
    {
     "data": {
      "text/html": [
       "<div>\n",
       "<style scoped>\n",
       "    .dataframe tbody tr th:only-of-type {\n",
       "        vertical-align: middle;\n",
       "    }\n",
       "\n",
       "    .dataframe tbody tr th {\n",
       "        vertical-align: top;\n",
       "    }\n",
       "\n",
       "    .dataframe thead th {\n",
       "        text-align: right;\n",
       "    }\n",
       "</style>\n",
       "<table border=\"1\" class=\"dataframe\">\n",
       "  <thead>\n",
       "    <tr style=\"text-align: right;\">\n",
       "      <th></th>\n",
       "      <th>id</th>\n",
       "      <th>toxic</th>\n",
       "      <th>severe_toxic</th>\n",
       "      <th>obscene</th>\n",
       "      <th>threat</th>\n",
       "      <th>insult</th>\n",
       "      <th>identity_hate</th>\n",
       "    </tr>\n",
       "  </thead>\n",
       "  <tbody>\n",
       "    <tr>\n",
       "      <th>0</th>\n",
       "      <td>00001cee341fdb12</td>\n",
       "      <td>0.998016</td>\n",
       "      <td>0.638761</td>\n",
       "      <td>0.991032</td>\n",
       "      <td>0.275529</td>\n",
       "      <td>0.954180</td>\n",
       "      <td>0.587855</td>\n",
       "    </tr>\n",
       "    <tr>\n",
       "      <th>1</th>\n",
       "      <td>0000247867823ef7</td>\n",
       "      <td>0.001189</td>\n",
       "      <td>0.000032</td>\n",
       "      <td>0.000220</td>\n",
       "      <td>0.000025</td>\n",
       "      <td>0.000268</td>\n",
       "      <td>0.000054</td>\n",
       "    </tr>\n",
       "    <tr>\n",
       "      <th>2</th>\n",
       "      <td>00013b17ad220c46</td>\n",
       "      <td>0.001247</td>\n",
       "      <td>0.000097</td>\n",
       "      <td>0.000315</td>\n",
       "      <td>0.000071</td>\n",
       "      <td>0.000321</td>\n",
       "      <td>0.000176</td>\n",
       "    </tr>\n",
       "    <tr>\n",
       "      <th>3</th>\n",
       "      <td>00017563c3f7919a</td>\n",
       "      <td>0.000211</td>\n",
       "      <td>0.000012</td>\n",
       "      <td>0.000084</td>\n",
       "      <td>0.000028</td>\n",
       "      <td>0.000088</td>\n",
       "      <td>0.000011</td>\n",
       "    </tr>\n",
       "    <tr>\n",
       "      <th>4</th>\n",
       "      <td>00017695ad8997eb</td>\n",
       "      <td>0.002830</td>\n",
       "      <td>0.000071</td>\n",
       "      <td>0.000257</td>\n",
       "      <td>0.000067</td>\n",
       "      <td>0.000256</td>\n",
       "      <td>0.000049</td>\n",
       "    </tr>\n",
       "  </tbody>\n",
       "</table>\n",
       "</div>"
      ],
      "text/plain": [
       "                 id     toxic  severe_toxic   obscene    threat    insult  \\\n",
       "0  00001cee341fdb12  0.998016      0.638761  0.991032  0.275529  0.954180   \n",
       "1  0000247867823ef7  0.001189      0.000032  0.000220  0.000025  0.000268   \n",
       "2  00013b17ad220c46  0.001247      0.000097  0.000315  0.000071  0.000321   \n",
       "3  00017563c3f7919a  0.000211      0.000012  0.000084  0.000028  0.000088   \n",
       "4  00017695ad8997eb  0.002830      0.000071  0.000257  0.000067  0.000256   \n",
       "\n",
       "   identity_hate  \n",
       "0       0.587855  \n",
       "1       0.000054  \n",
       "2       0.000176  \n",
       "3       0.000011  \n",
       "4       0.000049  "
      ]
     },
     "execution_count": 8,
     "metadata": {},
     "output_type": "execute_result"
    }
   ],
   "source": [
    "test_predicts_am.head()"
   ]
  },
  {
   "cell_type": "code",
   "execution_count": null,
   "metadata": {},
   "outputs": [],
   "source": []
  }
 ],
 "metadata": {
  "kernelspec": {
   "display_name": "Python 3",
   "language": "python",
   "name": "python3"
  },
  "language_info": {
   "codemirror_mode": {
    "name": "ipython",
    "version": 3
   },
   "file_extension": ".py",
   "mimetype": "text/x-python",
   "name": "python",
   "nbconvert_exporter": "python",
   "pygments_lexer": "ipython3",
   "version": "3.6.3"
  }
 },
 "nbformat": 4,
 "nbformat_minor": 2
}
